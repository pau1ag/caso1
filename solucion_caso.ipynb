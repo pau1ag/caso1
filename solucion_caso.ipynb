{
 "cells": [
  {
   "cell_type": "markdown",
   "metadata": {},
   "source": [
    "## Caso 1\n",
    "\n"
   ]
  },
  {
   "cell_type": "code",
   "execution_count": 1,
   "metadata": {},
   "outputs": [],
   "source": [
    "import numpy as np\n",
    "import pandas as pd\n",
    "import matplotlib.pyplot as plt\n",
    "import statsmodels.api as sm"
   ]
  },
  {
   "cell_type": "code",
   "execution_count": 5,
   "metadata": {},
   "outputs": [],
   "source": [
    "#Importar base de datos\n",
    "df = pd.read_csv('nike_shoes_sales.csv')"
   ]
  },
  {
   "cell_type": "code",
   "execution_count": 6,
   "metadata": {},
   "outputs": [
    {
     "data": {
      "text/html": [
       "<div>\n",
       "<style scoped>\n",
       "    .dataframe tbody tr th:only-of-type {\n",
       "        vertical-align: middle;\n",
       "    }\n",
       "\n",
       "    .dataframe tbody tr th {\n",
       "        vertical-align: top;\n",
       "    }\n",
       "\n",
       "    .dataframe thead th {\n",
       "        text-align: right;\n",
       "    }\n",
       "</style>\n",
       "<table border=\"1\" class=\"dataframe\">\n",
       "  <thead>\n",
       "    <tr style=\"text-align: right;\">\n",
       "      <th></th>\n",
       "      <th>product_name</th>\n",
       "      <th>product_id</th>\n",
       "      <th>listing_price</th>\n",
       "      <th>sale_price</th>\n",
       "      <th>discount</th>\n",
       "      <th>brand</th>\n",
       "      <th>description</th>\n",
       "      <th>rating</th>\n",
       "      <th>reviews</th>\n",
       "      <th>images</th>\n",
       "    </tr>\n",
       "  </thead>\n",
       "  <tbody>\n",
       "    <tr>\n",
       "      <th>0</th>\n",
       "      <td>Nike Air Force 1 '07 Essential</td>\n",
       "      <td>CJ1646-600</td>\n",
       "      <td>0</td>\n",
       "      <td>7495</td>\n",
       "      <td>0</td>\n",
       "      <td>Nike</td>\n",
       "      <td>Let your shoe game shimmer in the Nike Air For...</td>\n",
       "      <td>0.0</td>\n",
       "      <td>0</td>\n",
       "      <td>[\"https://static.nike.com/a/images/t_PDP_1728_...</td>\n",
       "    </tr>\n",
       "    <tr>\n",
       "      <th>1</th>\n",
       "      <td>Nike Air Force 1 '07</td>\n",
       "      <td>CT4328-101</td>\n",
       "      <td>0</td>\n",
       "      <td>7495</td>\n",
       "      <td>0</td>\n",
       "      <td>Nike</td>\n",
       "      <td>The legend lives on in the Nike Air Force 1 '0...</td>\n",
       "      <td>0.0</td>\n",
       "      <td>0</td>\n",
       "      <td>[\"https://static.nike.com/a/images/t_PDP_1728_...</td>\n",
       "    </tr>\n",
       "    <tr>\n",
       "      <th>2</th>\n",
       "      <td>Nike Air Force 1 Sage Low LX</td>\n",
       "      <td>CI3482-200</td>\n",
       "      <td>0</td>\n",
       "      <td>9995</td>\n",
       "      <td>0</td>\n",
       "      <td>Nike</td>\n",
       "      <td>Taking both height and craft to new levels, th...</td>\n",
       "      <td>0.0</td>\n",
       "      <td>0</td>\n",
       "      <td>[\"https://static.nike.com/a/images/t_PDP_1728_...</td>\n",
       "    </tr>\n",
       "    <tr>\n",
       "      <th>3</th>\n",
       "      <td>Nike Air Max Dia SE</td>\n",
       "      <td>CD0479-200</td>\n",
       "      <td>0</td>\n",
       "      <td>9995</td>\n",
       "      <td>0</td>\n",
       "      <td>Nike</td>\n",
       "      <td>Designed for a woman's foot, the Nike Air Max ...</td>\n",
       "      <td>0.0</td>\n",
       "      <td>0</td>\n",
       "      <td>[\"https://static.nike.com/a/images/t_PDP_1728_...</td>\n",
       "    </tr>\n",
       "    <tr>\n",
       "      <th>4</th>\n",
       "      <td>Nike Air Max Verona</td>\n",
       "      <td>CZ6156-101</td>\n",
       "      <td>0</td>\n",
       "      <td>9995</td>\n",
       "      <td>0</td>\n",
       "      <td>Nike</td>\n",
       "      <td>Pass on the good vibes in the Nike Air Max Ver...</td>\n",
       "      <td>0.0</td>\n",
       "      <td>0</td>\n",
       "      <td>[\"https://static.nike.com/a/images/t_PDP_1728_...</td>\n",
       "    </tr>\n",
       "  </tbody>\n",
       "</table>\n",
       "</div>"
      ],
      "text/plain": [
       "                     product_name  product_id  listing_price  sale_price  \\\n",
       "0  Nike Air Force 1 '07 Essential  CJ1646-600              0        7495   \n",
       "1            Nike Air Force 1 '07  CT4328-101              0        7495   \n",
       "2    Nike Air Force 1 Sage Low LX  CI3482-200              0        9995   \n",
       "3             Nike Air Max Dia SE  CD0479-200              0        9995   \n",
       "4             Nike Air Max Verona  CZ6156-101              0        9995   \n",
       "\n",
       "   discount brand                                        description  rating  \\\n",
       "0         0  Nike  Let your shoe game shimmer in the Nike Air For...     0.0   \n",
       "1         0  Nike  The legend lives on in the Nike Air Force 1 '0...     0.0   \n",
       "2         0  Nike  Taking both height and craft to new levels, th...     0.0   \n",
       "3         0  Nike  Designed for a woman's foot, the Nike Air Max ...     0.0   \n",
       "4         0  Nike  Pass on the good vibes in the Nike Air Max Ver...     0.0   \n",
       "\n",
       "   reviews                                             images  \n",
       "0        0  [\"https://static.nike.com/a/images/t_PDP_1728_...  \n",
       "1        0  [\"https://static.nike.com/a/images/t_PDP_1728_...  \n",
       "2        0  [\"https://static.nike.com/a/images/t_PDP_1728_...  \n",
       "3        0  [\"https://static.nike.com/a/images/t_PDP_1728_...  \n",
       "4        0  [\"https://static.nike.com/a/images/t_PDP_1728_...  "
      ]
     },
     "execution_count": 6,
     "metadata": {},
     "output_type": "execute_result"
    }
   ],
   "source": [
    "df.head()"
   ]
  },
  {
   "cell_type": "code",
   "execution_count": 7,
   "metadata": {},
   "outputs": [
    {
     "data": {
      "text/plain": [
       "<bound method DataFrame.info of                              product_name  product_id  listing_price  \\\n",
       "0          Nike Air Force 1 '07 Essential  CJ1646-600              0   \n",
       "1                    Nike Air Force 1 '07  CT4328-101              0   \n",
       "2            Nike Air Force 1 Sage Low LX  CI3482-200              0   \n",
       "3                     Nike Air Max Dia SE  CD0479-200              0   \n",
       "4                     Nike Air Max Verona  CZ6156-101              0   \n",
       "..                                    ...         ...            ...   \n",
       "638                    Air Jordan 8 Retro  CI1236-100          15995   \n",
       "639            Nike Phantom Venom Club IC  AO0578-717           4995   \n",
       "640  Nike Mercurial Superfly 7 Academy TF  AT7978-414           8495   \n",
       "641                       Nike Air Max 98  AH6799-300              0   \n",
       "642                        Nike P-6000 SE  CJ9585-600           8995   \n",
       "\n",
       "     sale_price  discount brand  \\\n",
       "0          7495         0  Nike   \n",
       "1          7495         0  Nike   \n",
       "2          9995         0  Nike   \n",
       "3          9995         0  Nike   \n",
       "4          9995         0  Nike   \n",
       "..          ...       ...   ...   \n",
       "638       12797         0  Nike   \n",
       "639        3497         0  Nike   \n",
       "640        5947         0  Nike   \n",
       "641       16995         0  Nike   \n",
       "642        6297         0  Nike   \n",
       "\n",
       "                                           description  rating  reviews  \\\n",
       "0    Let your shoe game shimmer in the Nike Air For...     0.0        0   \n",
       "1    The legend lives on in the Nike Air Force 1 '0...     0.0        0   \n",
       "2    Taking both height and craft to new levels, th...     0.0        0   \n",
       "3    Designed for a woman's foot, the Nike Air Max ...     0.0        0   \n",
       "4    Pass on the good vibes in the Nike Air Max Ver...     0.0        0   \n",
       "..                                                 ...     ...      ...   \n",
       "638  The Air Jordan 8 Retro recaptures the memorabl...     5.0        1   \n",
       "639  The Nike Phantom Venom Club IC is engineered f...     0.0        0   \n",
       "640  The soft upper of the Nike Mercurial Superfly ...     5.0        1   \n",
       "641  The Nike Air Max 98 features the OG design lin...     4.0        4   \n",
       "642  A mash-up of Pegasus' past, the Nike P-6000 SE...     0.0        0   \n",
       "\n",
       "                                                images  \n",
       "0    [\"https://static.nike.com/a/images/t_PDP_1728_...  \n",
       "1    [\"https://static.nike.com/a/images/t_PDP_1728_...  \n",
       "2    [\"https://static.nike.com/a/images/t_PDP_1728_...  \n",
       "3    [\"https://static.nike.com/a/images/t_PDP_1728_...  \n",
       "4    [\"https://static.nike.com/a/images/t_PDP_1728_...  \n",
       "..                                                 ...  \n",
       "638  [\"https://static.nike.com/a/images/t_PDP_1728_...  \n",
       "639                                                NaN  \n",
       "640                                                NaN  \n",
       "641  [\"https://static.nike.com/a/images/t_PDP_1728_...  \n",
       "642  [\"https://static.nike.com/a/images/t_PDP_1728_...  \n",
       "\n",
       "[643 rows x 10 columns]>"
      ]
     },
     "execution_count": 7,
     "metadata": {},
     "output_type": "execute_result"
    }
   ],
   "source": [
    "df.info"
   ]
  },
  {
   "cell_type": "code",
   "execution_count": 10,
   "metadata": {},
   "outputs": [
    {
     "data": {
      "text/plain": [
       "product_name      0\n",
       "product_id        0\n",
       "listing_price     0\n",
       "sale_price        0\n",
       "discount          0\n",
       "brand             0\n",
       "description       3\n",
       "rating            0\n",
       "reviews           0\n",
       "images           71\n",
       "dtype: int64"
      ]
     },
     "execution_count": 10,
     "metadata": {},
     "output_type": "execute_result"
    }
   ],
   "source": [
    "total_faltantes_por_columna = df.isnull().sum()\n",
    "total_faltantes_por_columna\n"
   ]
  },
  {
   "cell_type": "markdown",
   "metadata": {},
   "source": [
    "Se trabajará con sale_price como variable dependiente (Y), encontraremos los predictores con los siguientes análisis."
   ]
  }
 ],
 "metadata": {
  "kernelspec": {
   "display_name": "Python 3",
   "language": "python",
   "name": "python3"
  },
  "language_info": {
   "codemirror_mode": {
    "name": "ipython",
    "version": 3
   },
   "file_extension": ".py",
   "mimetype": "text/x-python",
   "name": "python",
   "nbconvert_exporter": "python",
   "pygments_lexer": "ipython3",
   "version": "3.10.11"
  }
 },
 "nbformat": 4,
 "nbformat_minor": 2
}
